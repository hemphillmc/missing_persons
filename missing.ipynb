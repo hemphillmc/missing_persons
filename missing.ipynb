{
 "cells": [
  {
   "cell_type": "markdown",
   "metadata": {},
   "source": [
    "# Missing Persons Report in Alabama\n",
    "### A civic data project and lesson in screen scraping & handling messy data\n",
    "\n",
    "A friend & psychologist intuited that there's been an increase in reporting on missing persons of color in Alabama. She wondered whether or not this reflected an actual trend or if the media is simply increasing a spotlight on these cases. \n",
    "\n",
    "Alabama doesn't make a clear time series of missing persons cases available, but they do report cases individually on their website: [Missing Persons Cases](https://app.alea.gov/Community/wfSearch.aspx?Type=20)\n",
    "\n",
    "The website doesn't limit records per page, so this provides a way to access and process the data without having to build a web crawler. In fact, all of the functionality needed to access the data can be found in pandas. "
   ]
  },
  {
   "cell_type": "code",
   "execution_count": 1,
   "metadata": {},
   "outputs": [],
   "source": [
    "import pandas as pd  # for web scraping and data analysis\n",
    "import matplotlib.pyplot as plt  # for data visualization\n",
    "\n",
    "plt.style.use(\"fivethirtyeight\")  # easy to read visualization style\n",
    "pd.set_option(\"max_colwidth\", 200)  # full visibility of text fields in pandas "
   ]
  },
  {
   "cell_type": "markdown",
   "metadata": {},
   "source": [
    "Because we're pulling directly from the web, we'll use pandas's read_html() method, which scans a page for HTML tables and parses them into a *list* of *DataFrames*. "
   ]
  },
  {
   "cell_type": "code",
   "execution_count": 2,
   "metadata": {},
   "outputs": [],
   "source": [
    "# Prep to pass URL into the read_html() method\n",
    "\n",
    "path = \"https://app.alea.gov/Community/wfSearch.aspx?Type=20\"\n",
    "tables = pd.read_html(path)"
   ]
  },
  {
   "cell_type": "code",
   "execution_count": 3,
   "metadata": {},
   "outputs": [
    {
     "name": "stdout",
     "output_type": "stream",
     "text": [
      "The method found 719 tables on the page. Here are the first two:\n",
      "\n",
      " [                                                                                                                                                                                                         0  \\\n",
      "0  Alabama Law Enforcement AgencyCommunity Information Center  Skip Navigation Links  HomeMissing Persons  Search Amber AlertsSearch Emergency Missing Child AlertsSearch Missing ChildrenSearch Missin...   \n",
      "1                                                                                                                                                                                                      NaN   \n",
      "2                                                                                                                                                                   © 2019  Alabama Law Enforcement Agency   \n",
      "\n",
      "                                                                                                                                                                                                         1  \\\n",
      "0  Alabama Law Enforcement AgencyCommunity Information Center  Skip Navigation Links  HomeMissing Persons  Search Amber AlertsSearch Emergency Missing Child AlertsSearch Missing ChildrenSearch Missin...   \n",
      "1  Search Options  Last Name: Type: Amber Alert \\tEmergency Missing Child Alert \\tMissing Child \\tMissing Adult \\tFugitive \\tMissing Senior Alert \\tBlue Alert  Status: Unknown \\tActive \\tCancelled/Cl...   \n",
      "2                                                                                                                                                                   © 2019  Alabama Law Enforcement Agency   \n",
      "\n",
      "                                                                                                                                                                                                         2  \n",
      "0  Alabama Law Enforcement AgencyCommunity Information Center  Skip Navigation Links  HomeMissing Persons  Search Amber AlertsSearch Emergency Missing Child AlertsSearch Missing ChildrenSearch Missin...  \n",
      "1                                                                                                                                                                                                      NaN  \n",
      "2                                                                                                                                                                   © 2019  Alabama Law Enforcement Agency  ,     0  \\\n",
      "0 NaN   \n",
      "1 NaN   \n",
      "\n",
      "                                                                                                                                                                                                         1  \\\n",
      "0                                                                                                                                                                                                      NaN   \n",
      "1  Skip Navigation Links  HomeMissing Persons  Search Amber AlertsSearch Emergency Missing Child AlertsSearch Missing ChildrenSearch Missing AdultsSearch Missing SeniorsSearch Blue AlertsSearch Fugit...   \n",
      "\n",
      "                                                                                                                                                                                                         2  \n",
      "0                                                                                                                                               Alabama Law Enforcement AgencyCommunity Information Center  \n",
      "1  Skip Navigation Links  HomeMissing Persons  Search Amber AlertsSearch Emergency Missing Child AlertsSearch Missing ChildrenSearch Missing AdultsSearch Missing SeniorsSearch Blue AlertsSearch Fugit...  ]\n"
     ]
    }
   ],
   "source": [
    "number_tables = len(tables)\n",
    "print(f\"The method found {number_tables} tables on the page. Here are the first two:\\n\\n\", tables[:2])"
   ]
  },
  {
   "cell_type": "code",
   "execution_count": 4,
   "metadata": {},
   "outputs": [
    {
     "data": {
      "text/html": [
       "<div>\n",
       "<style scoped>\n",
       "    .dataframe tbody tr th:only-of-type {\n",
       "        vertical-align: middle;\n",
       "    }\n",
       "\n",
       "    .dataframe tbody tr th {\n",
       "        vertical-align: top;\n",
       "    }\n",
       "\n",
       "    .dataframe thead th {\n",
       "        text-align: right;\n",
       "    }\n",
       "</style>\n",
       "<table border=\"1\" class=\"dataframe\">\n",
       "  <thead>\n",
       "    <tr style=\"text-align: right;\">\n",
       "      <th></th>\n",
       "      <th>0</th>\n",
       "      <th>1</th>\n",
       "      <th>2</th>\n",
       "    </tr>\n",
       "  </thead>\n",
       "  <tbody>\n",
       "    <tr>\n",
       "      <th>0</th>\n",
       "      <td>NaN</td>\n",
       "      <td>Category:  Missing  Status:  Active  Date Last Seen:  11/28/2018  Date Issued:  12/23/2019</td>\n",
       "      <td>Name:  Goldsmith ,Lakira Race:  Black  Ethnicity:  Black  Gender:  Female  Last Seen:  Montgomery, Alabama  Status:  Missing</td>\n",
       "    </tr>\n",
       "  </tbody>\n",
       "</table>\n",
       "</div>"
      ],
      "text/plain": [
       "    0  \\\n",
       "0 NaN   \n",
       "\n",
       "                                                                                            1  \\\n",
       "0  Category:  Missing  Status:  Active  Date Last Seen:  11/28/2018  Date Issued:  12/23/2019   \n",
       "\n",
       "                                                                                                                              2  \n",
       "0  Name:  Goldsmith ,Lakira Race:  Black  Ethnicity:  Black  Gender:  Female  Last Seen:  Montgomery, Alabama  Status:  Missing  "
      ]
     },
     "execution_count": 4,
     "metadata": {},
     "output_type": "execute_result"
    }
   ],
   "source": [
    "# Here is the first table after the intro line in DataFrame form\n",
    "tables[5]"
   ]
  },
  {
   "cell_type": "markdown",
   "metadata": {},
   "source": [
    "Notice that the line above corresponds to the first entry on the web page. This is true for index positions in increments of 6 afterwards as well. For example (below)"
   ]
  },
  {
   "cell_type": "code",
   "execution_count": 5,
   "metadata": {},
   "outputs": [
    {
     "data": {
      "text/html": [
       "<div>\n",
       "<style scoped>\n",
       "    .dataframe tbody tr th:only-of-type {\n",
       "        vertical-align: middle;\n",
       "    }\n",
       "\n",
       "    .dataframe tbody tr th {\n",
       "        vertical-align: top;\n",
       "    }\n",
       "\n",
       "    .dataframe thead th {\n",
       "        text-align: right;\n",
       "    }\n",
       "</style>\n",
       "<table border=\"1\" class=\"dataframe\">\n",
       "  <thead>\n",
       "    <tr style=\"text-align: right;\">\n",
       "      <th></th>\n",
       "      <th>0</th>\n",
       "      <th>1</th>\n",
       "      <th>2</th>\n",
       "    </tr>\n",
       "  </thead>\n",
       "  <tbody>\n",
       "    <tr>\n",
       "      <th>0</th>\n",
       "      <td>NaN</td>\n",
       "      <td>Category:  Missing  Status:  Active  Date Last Seen:  11/28/2018  Date Issued:  12/23/2019</td>\n",
       "      <td>Name:  Goldsmith ,Lakira Race:  Black  Ethnicity:  Black  Gender:  Female  Last Seen:  Montgomery, Alabama  Status:  Missing</td>\n",
       "    </tr>\n",
       "    <tr>\n",
       "      <th>0</th>\n",
       "      <td>NaN</td>\n",
       "      <td>Category:  Missing  Status:  Active  Date Last Seen:  12/10/2019  Date Issued:  12/20/2019</td>\n",
       "      <td>Name:  Sceurman ,David Lee  Race:  White  Ethnicity:  White  Gender:  Male  Last Seen:  Mobile, Alabama  Status:  Missing</td>\n",
       "    </tr>\n",
       "    <tr>\n",
       "      <th>0</th>\n",
       "      <td>NaN</td>\n",
       "      <td>Category:  Missing  Status:  Active  Date Last Seen:  12/09/2019  Date Issued:  12/20/2019</td>\n",
       "      <td>Name:  Hargrove ,Christy Nichole  Race:  White  Ethnicity:  White  Gender:  Female  Last Seen:  Colbert County, Alabama  Status:  Missing</td>\n",
       "    </tr>\n",
       "  </tbody>\n",
       "</table>\n",
       "</div>"
      ],
      "text/plain": [
       "    0  \\\n",
       "0 NaN   \n",
       "0 NaN   \n",
       "0 NaN   \n",
       "\n",
       "                                                                                            1  \\\n",
       "0  Category:  Missing  Status:  Active  Date Last Seen:  11/28/2018  Date Issued:  12/23/2019   \n",
       "0  Category:  Missing  Status:  Active  Date Last Seen:  12/10/2019  Date Issued:  12/20/2019   \n",
       "0  Category:  Missing  Status:  Active  Date Last Seen:  12/09/2019  Date Issued:  12/20/2019   \n",
       "\n",
       "                                                                                                                                           2  \n",
       "0               Name:  Goldsmith ,Lakira Race:  Black  Ethnicity:  Black  Gender:  Female  Last Seen:  Montgomery, Alabama  Status:  Missing  \n",
       "0                  Name:  Sceurman ,David Lee  Race:  White  Ethnicity:  White  Gender:  Male  Last Seen:  Mobile, Alabama  Status:  Missing  \n",
       "0  Name:  Hargrove ,Christy Nichole  Race:  White  Ethnicity:  White  Gender:  Female  Last Seen:  Colbert County, Alabama  Status:  Missing  "
      ]
     },
     "execution_count": 5,
     "metadata": {},
     "output_type": "execute_result"
    }
   ],
   "source": [
    "pd.concat(tables[5:20:5])"
   ]
  },
  {
   "cell_type": "code",
   "execution_count": 6,
   "metadata": {},
   "outputs": [
    {
     "data": {
      "text/plain": [
       "1                              Category:  Endangered  Status:  Active  Date Last Seen:  06/01/2000  Date Issued:  06/01/2000\n",
       "2    Name:  Sparks ,Barbara McRae  Race:  White  Ethnicity:  Unknown  Gender:  Female  Last Seen:  Alabama  Status:  Missing\n",
       "Name: 115, dtype: object"
      ]
     },
     "execution_count": 6,
     "metadata": {},
     "output_type": "execute_result"
    }
   ],
   "source": [
    "missing = pd.concat(tables[5::5]).reset_index(drop=True).iloc[:, 1:]  # This pulls each entry from the page in increments of 6 lines \n",
    "                                                                      # then concatenates into a single DataFrame\n",
    "    \n",
    "missing.iloc[115]  # This is what each row of raw data looks like. It may look like a challenge to work with, but there's enough info\n",
    "                   # here to construct a working time series of missing persons"
   ]
  },
  {
   "cell_type": "code",
   "execution_count": 7,
   "metadata": {},
   "outputs": [],
   "source": [
    "# Starting with constructing a time series.\n",
    "\n",
    "time_regex = r\"(Date Last Seen:  .{10} )\"  # regex pattern which pulls the text for \"date last seen\"\n",
    "date = pd.to_datetime(missing[1].str.extract(time_regex)[0].str.replace(\"Date Last Seen:  \", \"\"))  # converts these values into a time series"
   ]
  },
  {
   "cell_type": "code",
   "execution_count": 8,
   "metadata": {},
   "outputs": [
    {
     "data": {
      "text/html": [
       "<div>\n",
       "<style scoped>\n",
       "    .dataframe tbody tr th:only-of-type {\n",
       "        vertical-align: middle;\n",
       "    }\n",
       "\n",
       "    .dataframe tbody tr th {\n",
       "        vertical-align: top;\n",
       "    }\n",
       "\n",
       "    .dataframe thead th {\n",
       "        text-align: right;\n",
       "    }\n",
       "</style>\n",
       "<table border=\"1\" class=\"dataframe\">\n",
       "  <thead>\n",
       "    <tr style=\"text-align: right;\">\n",
       "      <th></th>\n",
       "      <th>city</th>\n",
       "      <th>race</th>\n",
       "    </tr>\n",
       "  </thead>\n",
       "  <tbody>\n",
       "    <tr>\n",
       "      <th>count</th>\n",
       "      <td>95</td>\n",
       "      <td>143</td>\n",
       "    </tr>\n",
       "    <tr>\n",
       "      <th>unique</th>\n",
       "      <td>62</td>\n",
       "      <td>3</td>\n",
       "    </tr>\n",
       "    <tr>\n",
       "      <th>top</th>\n",
       "      <td>Mobile</td>\n",
       "      <td>White</td>\n",
       "    </tr>\n",
       "    <tr>\n",
       "      <th>freq</th>\n",
       "      <td>10</td>\n",
       "      <td>97</td>\n",
       "    </tr>\n",
       "  </tbody>\n",
       "</table>\n",
       "</div>"
      ],
      "text/plain": [
       "          city   race\n",
       "count       95    143\n",
       "unique      62      3\n",
       "top     Mobile  White\n",
       "freq        10     97"
      ]
     },
     "execution_count": 8,
     "metadata": {},
     "output_type": "execute_result"
    }
   ],
   "source": [
    "# regex pattern to extract locations\n",
    "\n",
    "city_regex = r\"(Last Seen:.*?,)\"\n",
    "city = missing[2].str.extract(city_regex)[0].str.replace(r\",|Last Seen:\", \"\").str.strip()\n",
    "\n",
    "# regex pattern to extract race data\n",
    "\n",
    "race_regex = r\"(Race: .\\w*)\"\n",
    "race = missing[2].str.extract(race_regex)[0].str.replace(\"Race:\", \"\").str.strip()\n",
    "\n",
    "# combine these values into a DataFrame and grab summary statistics\n",
    "missing_frame = pd.DataFrame({\"city\": city, \"race\": race, \"date\": pd.to_datetime(date)}).set_index(\"date\").sort_index()\n",
    "missing_frame.describe()"
   ]
  },
  {
   "cell_type": "code",
   "execution_count": 9,
   "metadata": {},
   "outputs": [
    {
     "name": "stdout",
     "output_type": "stream",
     "text": [
      "<class 'pandas.core.frame.DataFrame'>\n",
      "DatetimeIndex: 143 entries, 1980-08-12 to NaT\n",
      "Data columns (total 2 columns):\n",
      "city    95 non-null object\n",
      "race    143 non-null object\n",
      "dtypes: object(2)\n",
      "memory usage: 3.4+ KB\n"
     ]
    }
   ],
   "source": [
    "missing_frame.info()"
   ]
  },
  {
   "cell_type": "markdown",
   "metadata": {},
   "source": [
    "Taking the three year average, we can see that there's a rising trend of missing persons of color, potentially nearing the peak experienced in 2005."
   ]
  },
  {
   "cell_type": "code",
   "execution_count": 10,
   "metadata": {},
   "outputs": [
    {
     "data": {
      "image/png": "[encoded data removed]",
      "text/plain": [
       "<Figure size 576x360 with 1 Axes>"
      ]
     },
     "metadata": {
      "needs_background": "light"
     },
     "output_type": "display_data"
    }
   ],
   "source": [
    "missing_poc = missing_frame.loc[missing_frame.race != \"White\"].resample(rule=\"y\").race.count()\n",
    "missing_resampled_3yr_ma = missing_poc.rolling(window=3).mean()\n",
    "\n",
    "def alea_plotter(time_series, test_type):\n",
    "    \"\"\"Consistent plotting for time series tests with ALEA data\"\"\"\n",
    "    \n",
    "    time_series.plot(grid=True, figsize=(8, 5))\n",
    "    plt.xlabel(\"Year\")\n",
    "    plt.ylabel(\"Cases Opened\")\n",
    "    plt.suptitle(f\"People of Color Reported Missing: {test_type}\", y=1.005)\n",
    "    plt.title(\"Alabama Law Enforcement Agency (ALEA)\", fontsize=14)\n",
    "    plt.xticks([\"1995\", \"2000\", \"2005\", \"2010\", \"2015\", \"2020\"]);\n",
    "    \n",
    "alea_plotter(time_series=missing_resampled_3yr_ma, test_type = \"3yr Rolling Average\")"
   ]
  },
  {
   "cell_type": "markdown",
   "metadata": {},
   "source": [
    "### Interpreting the Cases Opened Over Time\n",
    "\n",
    "Based on the chart above, whether or not to heighten awareness and increase efforts in preventing missing persons cases is debateable. Mountain Scott, a data science enthusiast, pointed out that we can see that over the lifespan of the data, the highs are cancelled by the lows. \n",
    "\n",
    "Although this is true, we can see that this happens over a large period of time. With the recent trend upward, the question really is how long that trend is expected to last. We can use Autocorrelation to make assumptions to this effect.\n",
    "\n",
    "Autocorrelation simply asks the question, \"How much does past data predict future data?\"\n",
    "\n",
    "Observing the chart below, for 0 years of lag, we see what we'd expect: the data is perfectly correlated with itself. Shifting the lag outwards, we see the correlation decline, which makes sense. The more years out, the harder it is to use previous data to predict the value. "
   ]
  },
  {
   "cell_type": "code",
   "execution_count": 11,
   "metadata": {},
   "outputs": [
    {
     "data": {
      "text/plain": [
       "Text(0, 0.5, 'Correlation')"
      ]
     },
     "execution_count": 11,
     "metadata": {},
     "output_type": "execute_result"
    },
    {
     "data": {
      "image/png": "[encoded data removed]",
      "text/plain": [
       "<Figure size 432x288 with 1 Axes>"
      ]
     },
     "metadata": {
      "needs_background": "light"
     },
     "output_type": "display_data"
    }
   ],
   "source": [
    "from statsmodels.graphics.tsaplots import plot_acf\n",
    "acf = plot_acf(missing_poc)\n",
    "plt.xlabel(\"Years of Lag\")\n",
    "plt.ylabel(\"Correlation\")"
   ]
  },
  {
   "cell_type": "markdown",
   "metadata": {},
   "source": [
    "## Conclusion"
   ]
  },
  {
   "cell_type": "markdown",
   "metadata": {},
   "source": [
    "There is much more data that can be extracted and analyzed from the site, but the core message is clear. We should be vigilant and watchful of our neighbors and make sure that we're protecting others in our communities. Recent spikes indicate that in the short-term years to come, these cases could remain high, with the potential to decline over the long run. \n",
    "\n",
    "The following information is available on the site to help report these issues:\n",
    "\n",
    "If you think you have seen a missing person or have any information, contact the agency listed in our database or contact the Alabama Law Enforcement Agency Center for Missing and Exploited Children directly at (800) 228-7688. Our business hours are 8:00am cst - 5:00pm cst, Monday - Friday. \n",
    "\n",
    "Please limit after hour calls to emergencies only. \n",
    "\n",
    "Callers without access to the US 800 telephone system should call 001-334-353-1172. Our E-MAIL: missing@alea.gov."
   ]
  },
  {
   "cell_type": "markdown",
   "metadata": {},
   "source": [
    "### Additional Note\n",
    "\n",
    "Often, datasets related to important social & business issues are hard to find or non-existent. As an analyst or data scientist, you have a wide range of tools and options available to mine data sources and find key insights. When working with stakeholders, be sure to bring an optimistic spirit and open mind to the table. Tasks that look impossible at first may end up having attainable solutions. \n",
    "\n",
    "Some good basics to have in addition to a positive attitude: python, pandas, regex, matplotlib, statsmodels, sklearn. Hit me up at @luketrailrunner if you need any guidance on resources to learn these packages. "
   ]
  }
 ],
 "metadata": {
  "kernelspec": {
   "display_name": "Python 3",
   "language": "python",
   "name": "python3"
  },
  "language_info": {
   "codemirror_mode": {
    "name": "ipython",
    "version": 3
   },
   "file_extension": ".py",
   "mimetype": "text/x-python",
   "name": "python",
   "nbconvert_exporter": "python",
   "pygments_lexer": "ipython3",
   "version": "3.7.3"
  }
 },
 "nbformat": 4,
 "nbformat_minor": 2
}
